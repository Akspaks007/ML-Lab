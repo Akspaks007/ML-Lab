{
  "cells": [
    {
      "cell_type": "markdown",
      "id": "054e0db1",
      "metadata": {
        "id": "054e0db1"
      },
      "source": [
        "## (1) Dataset"
      ]
    },
    {
      "cell_type": "code",
      "execution_count": 160,
      "id": "f3176e14",
      "metadata": {
        "id": "f3176e14"
      },
      "outputs": [],
      "source": [
        "import numpy as np\n",
        "import pandas as pd\n",
        "import matplotlib.pyplot as plt"
      ]
    },
    {
      "cell_type": "code",
      "execution_count": 161,
      "id": "a8bbfcf3",
      "metadata": {
        "id": "a8bbfcf3"
      },
      "outputs": [],
      "source": [
        "df = pd.read_csv(\"housing.csv\")"
      ]
    },
    {
      "cell_type": "code",
      "execution_count": 162,
      "id": "6c834e98",
      "metadata": {
        "id": "6c834e98",
        "colab": {
          "base_uri": "https://localhost:8080/",
          "height": 226
        },
        "outputId": "4867ca30-c427-4767-b718-a986f6bc6783"
      },
      "outputs": [
        {
          "output_type": "execute_result",
          "data": {
            "text/plain": [
              "   longitude  latitude  housing_median_age  total_rooms  total_bedrooms  \\\n",
              "0    -122.23     37.88                41.0        880.0           129.0   \n",
              "1    -122.22     37.86                21.0       7099.0          1106.0   \n",
              "2    -122.24     37.85                52.0       1467.0           190.0   \n",
              "3    -122.25     37.85                52.0       1274.0           235.0   \n",
              "4    -122.25     37.85                52.0       1627.0           280.0   \n",
              "\n",
              "   population  households  median_income  median_house_value ocean_proximity  \n",
              "0       322.0       126.0         8.3252            452600.0        NEAR BAY  \n",
              "1      2401.0      1138.0         8.3014            358500.0        NEAR BAY  \n",
              "2       496.0       177.0         7.2574            352100.0        NEAR BAY  \n",
              "3       558.0       219.0         5.6431            341300.0        NEAR BAY  \n",
              "4       565.0       259.0         3.8462            342200.0        NEAR BAY  "
            ],
            "text/html": [
              "\n",
              "  <div id=\"df-03c055bc-a700-4c6f-87d1-5f189f45d6f6\" class=\"colab-df-container\">\n",
              "    <div>\n",
              "<style scoped>\n",
              "    .dataframe tbody tr th:only-of-type {\n",
              "        vertical-align: middle;\n",
              "    }\n",
              "\n",
              "    .dataframe tbody tr th {\n",
              "        vertical-align: top;\n",
              "    }\n",
              "\n",
              "    .dataframe thead th {\n",
              "        text-align: right;\n",
              "    }\n",
              "</style>\n",
              "<table border=\"1\" class=\"dataframe\">\n",
              "  <thead>\n",
              "    <tr style=\"text-align: right;\">\n",
              "      <th></th>\n",
              "      <th>longitude</th>\n",
              "      <th>latitude</th>\n",
              "      <th>housing_median_age</th>\n",
              "      <th>total_rooms</th>\n",
              "      <th>total_bedrooms</th>\n",
              "      <th>population</th>\n",
              "      <th>households</th>\n",
              "      <th>median_income</th>\n",
              "      <th>median_house_value</th>\n",
              "      <th>ocean_proximity</th>\n",
              "    </tr>\n",
              "  </thead>\n",
              "  <tbody>\n",
              "    <tr>\n",
              "      <th>0</th>\n",
              "      <td>-122.23</td>\n",
              "      <td>37.88</td>\n",
              "      <td>41.0</td>\n",
              "      <td>880.0</td>\n",
              "      <td>129.0</td>\n",
              "      <td>322.0</td>\n",
              "      <td>126.0</td>\n",
              "      <td>8.3252</td>\n",
              "      <td>452600.0</td>\n",
              "      <td>NEAR BAY</td>\n",
              "    </tr>\n",
              "    <tr>\n",
              "      <th>1</th>\n",
              "      <td>-122.22</td>\n",
              "      <td>37.86</td>\n",
              "      <td>21.0</td>\n",
              "      <td>7099.0</td>\n",
              "      <td>1106.0</td>\n",
              "      <td>2401.0</td>\n",
              "      <td>1138.0</td>\n",
              "      <td>8.3014</td>\n",
              "      <td>358500.0</td>\n",
              "      <td>NEAR BAY</td>\n",
              "    </tr>\n",
              "    <tr>\n",
              "      <th>2</th>\n",
              "      <td>-122.24</td>\n",
              "      <td>37.85</td>\n",
              "      <td>52.0</td>\n",
              "      <td>1467.0</td>\n",
              "      <td>190.0</td>\n",
              "      <td>496.0</td>\n",
              "      <td>177.0</td>\n",
              "      <td>7.2574</td>\n",
              "      <td>352100.0</td>\n",
              "      <td>NEAR BAY</td>\n",
              "    </tr>\n",
              "    <tr>\n",
              "      <th>3</th>\n",
              "      <td>-122.25</td>\n",
              "      <td>37.85</td>\n",
              "      <td>52.0</td>\n",
              "      <td>1274.0</td>\n",
              "      <td>235.0</td>\n",
              "      <td>558.0</td>\n",
              "      <td>219.0</td>\n",
              "      <td>5.6431</td>\n",
              "      <td>341300.0</td>\n",
              "      <td>NEAR BAY</td>\n",
              "    </tr>\n",
              "    <tr>\n",
              "      <th>4</th>\n",
              "      <td>-122.25</td>\n",
              "      <td>37.85</td>\n",
              "      <td>52.0</td>\n",
              "      <td>1627.0</td>\n",
              "      <td>280.0</td>\n",
              "      <td>565.0</td>\n",
              "      <td>259.0</td>\n",
              "      <td>3.8462</td>\n",
              "      <td>342200.0</td>\n",
              "      <td>NEAR BAY</td>\n",
              "    </tr>\n",
              "  </tbody>\n",
              "</table>\n",
              "</div>\n",
              "    <div class=\"colab-df-buttons\">\n",
              "\n",
              "  <div class=\"colab-df-container\">\n",
              "    <button class=\"colab-df-convert\" onclick=\"convertToInteractive('df-03c055bc-a700-4c6f-87d1-5f189f45d6f6')\"\n",
              "            title=\"Convert this dataframe to an interactive table.\"\n",
              "            style=\"display:none;\">\n",
              "\n",
              "  <svg xmlns=\"http://www.w3.org/2000/svg\" height=\"24px\" viewBox=\"0 -960 960 960\">\n",
              "    <path d=\"M120-120v-720h720v720H120Zm60-500h600v-160H180v160Zm220 220h160v-160H400v160Zm0 220h160v-160H400v160ZM180-400h160v-160H180v160Zm440 0h160v-160H620v160ZM180-180h160v-160H180v160Zm440 0h160v-160H620v160Z\"/>\n",
              "  </svg>\n",
              "    </button>\n",
              "\n",
              "  <style>\n",
              "    .colab-df-container {\n",
              "      display:flex;\n",
              "      gap: 12px;\n",
              "    }\n",
              "\n",
              "    .colab-df-convert {\n",
              "      background-color: #E8F0FE;\n",
              "      border: none;\n",
              "      border-radius: 50%;\n",
              "      cursor: pointer;\n",
              "      display: none;\n",
              "      fill: #1967D2;\n",
              "      height: 32px;\n",
              "      padding: 0 0 0 0;\n",
              "      width: 32px;\n",
              "    }\n",
              "\n",
              "    .colab-df-convert:hover {\n",
              "      background-color: #E2EBFA;\n",
              "      box-shadow: 0px 1px 2px rgba(60, 64, 67, 0.3), 0px 1px 3px 1px rgba(60, 64, 67, 0.15);\n",
              "      fill: #174EA6;\n",
              "    }\n",
              "\n",
              "    .colab-df-buttons div {\n",
              "      margin-bottom: 4px;\n",
              "    }\n",
              "\n",
              "    [theme=dark] .colab-df-convert {\n",
              "      background-color: #3B4455;\n",
              "      fill: #D2E3FC;\n",
              "    }\n",
              "\n",
              "    [theme=dark] .colab-df-convert:hover {\n",
              "      background-color: #434B5C;\n",
              "      box-shadow: 0px 1px 3px 1px rgba(0, 0, 0, 0.15);\n",
              "      filter: drop-shadow(0px 1px 2px rgba(0, 0, 0, 0.3));\n",
              "      fill: #FFFFFF;\n",
              "    }\n",
              "  </style>\n",
              "\n",
              "    <script>\n",
              "      const buttonEl =\n",
              "        document.querySelector('#df-03c055bc-a700-4c6f-87d1-5f189f45d6f6 button.colab-df-convert');\n",
              "      buttonEl.style.display =\n",
              "        google.colab.kernel.accessAllowed ? 'block' : 'none';\n",
              "\n",
              "      async function convertToInteractive(key) {\n",
              "        const element = document.querySelector('#df-03c055bc-a700-4c6f-87d1-5f189f45d6f6');\n",
              "        const dataTable =\n",
              "          await google.colab.kernel.invokeFunction('convertToInteractive',\n",
              "                                                    [key], {});\n",
              "        if (!dataTable) return;\n",
              "\n",
              "        const docLinkHtml = 'Like what you see? Visit the ' +\n",
              "          '<a target=\"_blank\" href=https://colab.research.google.com/notebooks/data_table.ipynb>data table notebook</a>'\n",
              "          + ' to learn more about interactive tables.';\n",
              "        element.innerHTML = '';\n",
              "        dataTable['output_type'] = 'display_data';\n",
              "        await google.colab.output.renderOutput(dataTable, element);\n",
              "        const docLink = document.createElement('div');\n",
              "        docLink.innerHTML = docLinkHtml;\n",
              "        element.appendChild(docLink);\n",
              "      }\n",
              "    </script>\n",
              "  </div>\n",
              "\n",
              "\n",
              "    <div id=\"df-c28126f2-f1b6-4e61-aa6a-b1e593f55349\">\n",
              "      <button class=\"colab-df-quickchart\" onclick=\"quickchart('df-c28126f2-f1b6-4e61-aa6a-b1e593f55349')\"\n",
              "                title=\"Suggest charts\"\n",
              "                style=\"display:none;\">\n",
              "\n",
              "<svg xmlns=\"http://www.w3.org/2000/svg\" height=\"24px\"viewBox=\"0 0 24 24\"\n",
              "     width=\"24px\">\n",
              "    <g>\n",
              "        <path d=\"M19 3H5c-1.1 0-2 .9-2 2v14c0 1.1.9 2 2 2h14c1.1 0 2-.9 2-2V5c0-1.1-.9-2-2-2zM9 17H7v-7h2v7zm4 0h-2V7h2v10zm4 0h-2v-4h2v4z\"/>\n",
              "    </g>\n",
              "</svg>\n",
              "      </button>\n",
              "\n",
              "<style>\n",
              "  .colab-df-quickchart {\n",
              "      --bg-color: #E8F0FE;\n",
              "      --fill-color: #1967D2;\n",
              "      --hover-bg-color: #E2EBFA;\n",
              "      --hover-fill-color: #174EA6;\n",
              "      --disabled-fill-color: #AAA;\n",
              "      --disabled-bg-color: #DDD;\n",
              "  }\n",
              "\n",
              "  [theme=dark] .colab-df-quickchart {\n",
              "      --bg-color: #3B4455;\n",
              "      --fill-color: #D2E3FC;\n",
              "      --hover-bg-color: #434B5C;\n",
              "      --hover-fill-color: #FFFFFF;\n",
              "      --disabled-bg-color: #3B4455;\n",
              "      --disabled-fill-color: #666;\n",
              "  }\n",
              "\n",
              "  .colab-df-quickchart {\n",
              "    background-color: var(--bg-color);\n",
              "    border: none;\n",
              "    border-radius: 50%;\n",
              "    cursor: pointer;\n",
              "    display: none;\n",
              "    fill: var(--fill-color);\n",
              "    height: 32px;\n",
              "    padding: 0;\n",
              "    width: 32px;\n",
              "  }\n",
              "\n",
              "  .colab-df-quickchart:hover {\n",
              "    background-color: var(--hover-bg-color);\n",
              "    box-shadow: 0 1px 2px rgba(60, 64, 67, 0.3), 0 1px 3px 1px rgba(60, 64, 67, 0.15);\n",
              "    fill: var(--button-hover-fill-color);\n",
              "  }\n",
              "\n",
              "  .colab-df-quickchart-complete:disabled,\n",
              "  .colab-df-quickchart-complete:disabled:hover {\n",
              "    background-color: var(--disabled-bg-color);\n",
              "    fill: var(--disabled-fill-color);\n",
              "    box-shadow: none;\n",
              "  }\n",
              "\n",
              "  .colab-df-spinner {\n",
              "    border: 2px solid var(--fill-color);\n",
              "    border-color: transparent;\n",
              "    border-bottom-color: var(--fill-color);\n",
              "    animation:\n",
              "      spin 1s steps(1) infinite;\n",
              "  }\n",
              "\n",
              "  @keyframes spin {\n",
              "    0% {\n",
              "      border-color: transparent;\n",
              "      border-bottom-color: var(--fill-color);\n",
              "      border-left-color: var(--fill-color);\n",
              "    }\n",
              "    20% {\n",
              "      border-color: transparent;\n",
              "      border-left-color: var(--fill-color);\n",
              "      border-top-color: var(--fill-color);\n",
              "    }\n",
              "    30% {\n",
              "      border-color: transparent;\n",
              "      border-left-color: var(--fill-color);\n",
              "      border-top-color: var(--fill-color);\n",
              "      border-right-color: var(--fill-color);\n",
              "    }\n",
              "    40% {\n",
              "      border-color: transparent;\n",
              "      border-right-color: var(--fill-color);\n",
              "      border-top-color: var(--fill-color);\n",
              "    }\n",
              "    60% {\n",
              "      border-color: transparent;\n",
              "      border-right-color: var(--fill-color);\n",
              "    }\n",
              "    80% {\n",
              "      border-color: transparent;\n",
              "      border-right-color: var(--fill-color);\n",
              "      border-bottom-color: var(--fill-color);\n",
              "    }\n",
              "    90% {\n",
              "      border-color: transparent;\n",
              "      border-bottom-color: var(--fill-color);\n",
              "    }\n",
              "  }\n",
              "</style>\n",
              "\n",
              "      <script>\n",
              "        async function quickchart(key) {\n",
              "          const quickchartButtonEl =\n",
              "            document.querySelector('#' + key + ' button');\n",
              "          quickchartButtonEl.disabled = true;  // To prevent multiple clicks.\n",
              "          quickchartButtonEl.classList.add('colab-df-spinner');\n",
              "          try {\n",
              "            const charts = await google.colab.kernel.invokeFunction(\n",
              "                'suggestCharts', [key], {});\n",
              "          } catch (error) {\n",
              "            console.error('Error during call to suggestCharts:', error);\n",
              "          }\n",
              "          quickchartButtonEl.classList.remove('colab-df-spinner');\n",
              "          quickchartButtonEl.classList.add('colab-df-quickchart-complete');\n",
              "        }\n",
              "        (() => {\n",
              "          let quickchartButtonEl =\n",
              "            document.querySelector('#df-c28126f2-f1b6-4e61-aa6a-b1e593f55349 button');\n",
              "          quickchartButtonEl.style.display =\n",
              "            google.colab.kernel.accessAllowed ? 'block' : 'none';\n",
              "        })();\n",
              "      </script>\n",
              "    </div>\n",
              "\n",
              "    </div>\n",
              "  </div>\n"
            ],
            "application/vnd.google.colaboratory.intrinsic+json": {
              "type": "dataframe",
              "variable_name": "df",
              "summary": "{\n  \"name\": \"df\",\n  \"rows\": 20640,\n  \"fields\": [\n    {\n      \"column\": \"longitude\",\n      \"properties\": {\n        \"dtype\": \"number\",\n        \"std\": 2.003531723502581,\n        \"min\": -124.35,\n        \"max\": -114.31,\n        \"num_unique_values\": 844,\n        \"samples\": [\n          -118.63,\n          -119.86,\n          -121.26\n        ],\n        \"semantic_type\": \"\",\n        \"description\": \"\"\n      }\n    },\n    {\n      \"column\": \"latitude\",\n      \"properties\": {\n        \"dtype\": \"number\",\n        \"std\": 2.1359523974571117,\n        \"min\": 32.54,\n        \"max\": 41.95,\n        \"num_unique_values\": 862,\n        \"samples\": [\n          33.7,\n          34.41,\n          38.24\n        ],\n        \"semantic_type\": \"\",\n        \"description\": \"\"\n      }\n    },\n    {\n      \"column\": \"housing_median_age\",\n      \"properties\": {\n        \"dtype\": \"number\",\n        \"std\": 12.585557612111637,\n        \"min\": 1.0,\n        \"max\": 52.0,\n        \"num_unique_values\": 52,\n        \"samples\": [\n          35.0,\n          25.0,\n          7.0\n        ],\n        \"semantic_type\": \"\",\n        \"description\": \"\"\n      }\n    },\n    {\n      \"column\": \"total_rooms\",\n      \"properties\": {\n        \"dtype\": \"number\",\n        \"std\": 2181.615251582787,\n        \"min\": 2.0,\n        \"max\": 39320.0,\n        \"num_unique_values\": 5926,\n        \"samples\": [\n          699.0,\n          1544.0,\n          3966.0\n        ],\n        \"semantic_type\": \"\",\n        \"description\": \"\"\n      }\n    },\n    {\n      \"column\": \"total_bedrooms\",\n      \"properties\": {\n        \"dtype\": \"number\",\n        \"std\": 421.3850700740322,\n        \"min\": 1.0,\n        \"max\": 6445.0,\n        \"num_unique_values\": 1923,\n        \"samples\": [\n          1538.0,\n          1298.0,\n          1578.0\n        ],\n        \"semantic_type\": \"\",\n        \"description\": \"\"\n      }\n    },\n    {\n      \"column\": \"population\",\n      \"properties\": {\n        \"dtype\": \"number\",\n        \"std\": 1132.4621217653375,\n        \"min\": 3.0,\n        \"max\": 35682.0,\n        \"num_unique_values\": 3888,\n        \"samples\": [\n          4169.0,\n          636.0,\n          3367.0\n        ],\n        \"semantic_type\": \"\",\n        \"description\": \"\"\n      }\n    },\n    {\n      \"column\": \"households\",\n      \"properties\": {\n        \"dtype\": \"number\",\n        \"std\": 382.3297528316099,\n        \"min\": 1.0,\n        \"max\": 6082.0,\n        \"num_unique_values\": 1815,\n        \"samples\": [\n          21.0,\n          750.0,\n          1447.0\n        ],\n        \"semantic_type\": \"\",\n        \"description\": \"\"\n      }\n    },\n    {\n      \"column\": \"median_income\",\n      \"properties\": {\n        \"dtype\": \"number\",\n        \"std\": 1.8998217179452732,\n        \"min\": 0.4999,\n        \"max\": 15.0001,\n        \"num_unique_values\": 12928,\n        \"samples\": [\n          5.0286,\n          2.0433,\n          6.1228\n        ],\n        \"semantic_type\": \"\",\n        \"description\": \"\"\n      }\n    },\n    {\n      \"column\": \"median_house_value\",\n      \"properties\": {\n        \"dtype\": \"number\",\n        \"std\": 115395.6158744132,\n        \"min\": 14999.0,\n        \"max\": 500001.0,\n        \"num_unique_values\": 3842,\n        \"samples\": [\n          194300.0,\n          379000.0,\n          230100.0\n        ],\n        \"semantic_type\": \"\",\n        \"description\": \"\"\n      }\n    },\n    {\n      \"column\": \"ocean_proximity\",\n      \"properties\": {\n        \"dtype\": \"category\",\n        \"num_unique_values\": 5,\n        \"samples\": [\n          \"<1H OCEAN\",\n          \"ISLAND\",\n          \"INLAND\"\n        ],\n        \"semantic_type\": \"\",\n        \"description\": \"\"\n      }\n    }\n  ]\n}"
            }
          },
          "metadata": {},
          "execution_count": 162
        }
      ],
      "source": [
        "df.head()"
      ]
    },
    {
      "cell_type": "markdown",
      "id": "043e5edf",
      "metadata": {
        "id": "043e5edf"
      },
      "source": [
        "## (2) Tasks"
      ]
    },
    {
      "cell_type": "markdown",
      "id": "a5035b15",
      "metadata": {
        "id": "a5035b15"
      },
      "source": [
        "### (A) Data preprocessing"
      ]
    },
    {
      "cell_type": "markdown",
      "id": "96865547",
      "metadata": {
        "id": "96865547"
      },
      "source": [
        "#### Checking Null Values"
      ]
    },
    {
      "cell_type": "code",
      "execution_count": 163,
      "id": "374ceddf",
      "metadata": {
        "id": "374ceddf"
      },
      "outputs": [],
      "source": [
        "## checking null values in dataset\n",
        "df.isnull().sum()\n",
        "df = df.dropna()"
      ]
    },
    {
      "cell_type": "markdown",
      "id": "476f23cd",
      "metadata": {
        "id": "476f23cd"
      },
      "source": [
        "#### Dividing the datasets into x_train, x_test, y_train, y_test"
      ]
    },
    {
      "cell_type": "code",
      "execution_count": 164,
      "id": "8705098b",
      "metadata": {
        "id": "8705098b"
      },
      "outputs": [],
      "source": [
        "X = df.drop(\"ocean_proximity\", axis=1).values\n",
        "\n",
        "test_size = 0.2\n",
        "n = len(df)\n",
        "test_count = int(n * test_size)\n",
        "\n",
        "indices = np.arange(n)\n",
        "np.random.shuffle(indices)\n",
        "test_idx = indices[:test_count]\n",
        "train_idx = indices[test_count:]\n",
        "x_train, x_test = X[train_idx], X[test_idx]\n",
        "y_train, y_test = y[train_idx], y[test_idx]"
      ]
    },
    {
      "cell_type": "code",
      "execution_count": 165,
      "id": "5e03bde3",
      "metadata": {
        "id": "5e03bde3",
        "colab": {
          "base_uri": "https://localhost:8080/"
        },
        "outputId": "ab1de26c-c17f-4821-b894-4486c2aca08d"
      },
      "outputs": [
        {
          "output_type": "execute_result",
          "data": {
            "text/plain": [
              "array([[-1.1833e+02,  3.3930e+01,  3.8000e+01, ...,  1.1900e+02,\n",
              "         6.0718e+00,  1.5600e+05],\n",
              "       [-1.1792e+02,  3.3630e+01,  3.4000e+01, ...,  4.9000e+02,\n",
              "         4.9643e+00,  3.1790e+05],\n",
              "       [-1.2225e+02,  3.7860e+01,  5.2000e+01, ...,  2.9500e+02,\n",
              "         5.0463e+00,  4.5630e+05],\n",
              "       ...,\n",
              "       [-1.1833e+02,  3.4050e+01,  4.4000e+01, ...,  4.0400e+02,\n",
              "         2.5284e+00,  2.2630e+05],\n",
              "       [-1.2234e+02,  3.7950e+01,  4.5000e+01, ...,  2.7000e+02,\n",
              "         3.6719e+00,  1.3410e+05],\n",
              "       [-1.2220e+02,  3.7760e+01,  3.7000e+01, ...,  6.6700e+02,\n",
              "         1.4097e+00,  8.4600e+04]])"
            ]
          },
          "metadata": {},
          "execution_count": 165
        }
      ],
      "source": [
        "x_train"
      ]
    },
    {
      "cell_type": "code",
      "execution_count": 166,
      "id": "c1cd888d",
      "metadata": {
        "id": "c1cd888d",
        "colab": {
          "base_uri": "https://localhost:8080/"
        },
        "outputId": "3ccbfbf7-c01c-4620-ede7-19a478ae5476"
      },
      "outputs": [
        {
          "output_type": "execute_result",
          "data": {
            "text/plain": [
              "array([165600., 373700., 489600., ..., 316700., 133300.,  70000.])"
            ]
          },
          "metadata": {},
          "execution_count": 166
        }
      ],
      "source": [
        "y_train"
      ]
    },
    {
      "cell_type": "code",
      "execution_count": 166,
      "id": "1a44c465",
      "metadata": {
        "id": "1a44c465"
      },
      "outputs": [],
      "source": []
    },
    {
      "cell_type": "code",
      "execution_count": 167,
      "id": "8c66175e",
      "metadata": {
        "id": "8c66175e",
        "colab": {
          "base_uri": "https://localhost:8080/"
        },
        "outputId": "50a4ea8c-eed4-4cba-e13a-ceab3227c54a"
      },
      "outputs": [
        {
          "output_type": "execute_result",
          "data": {
            "text/plain": [
              "array([[-1.2040e+02,  3.4950e+01,  8.0000e+00, ...,  2.9000e+02,\n",
              "         5.0206e+00,  2.6100e+05],\n",
              "       [-1.1834e+02,  3.3900e+01,  2.3000e+01, ...,  4.9300e+02,\n",
              "         4.9779e+00,  2.2460e+05],\n",
              "       [-1.1780e+02,  3.3690e+01,  1.5000e+01, ...,  3.0700e+02,\n",
              "         7.9887e+00,  3.2800e+05],\n",
              "       ...,\n",
              "       [-1.2243e+02,  3.7780e+01,  4.9000e+01, ...,  5.4600e+02,\n",
              "         2.9792e+00,  3.5000e+05],\n",
              "       [-1.2123e+02,  3.7810e+01,  1.5000e+01, ...,  5.5700e+02,\n",
              "         4.2431e+00,  1.3710e+05],\n",
              "       [-1.1825e+02,  3.3930e+01,  4.2000e+01, ...,  2.2800e+02,\n",
              "         1.1346e+00,  8.5400e+04]])"
            ]
          },
          "metadata": {},
          "execution_count": 167
        }
      ],
      "source": [
        "x_test"
      ]
    },
    {
      "cell_type": "code",
      "execution_count": 168,
      "id": "07295237",
      "metadata": {
        "id": "07295237",
        "colab": {
          "base_uri": "https://localhost:8080/"
        },
        "outputId": "316cb6eb-3d13-4a20-c09d-384aeb35af3d"
      },
      "outputs": [
        {
          "output_type": "execute_result",
          "data": {
            "text/plain": [
              "array([300000., 245800., 480800., ..., 167200., 155000.,  89700.])"
            ]
          },
          "metadata": {},
          "execution_count": 168
        }
      ],
      "source": [
        "y_test"
      ]
    },
    {
      "cell_type": "markdown",
      "id": "fd0404c7",
      "metadata": {
        "id": "fd0404c7"
      },
      "source": [
        "#### Implementing Standardization from scratch"
      ]
    },
    {
      "cell_type": "markdown",
      "id": "0fe7d709",
      "metadata": {
        "id": "0fe7d709"
      },
      "source": [
        "#### We have a mathematical formula for standardization\n",
        "#### Z-Score = (Current_value - Mean) / Standard Deviation."
      ]
    },
    {
      "cell_type": "code",
      "execution_count": 169,
      "id": "46a4b512",
      "metadata": {
        "id": "46a4b512"
      },
      "outputs": [],
      "source": [
        "import numpy as np\n",
        "\n",
        "def Standardization_train(array):\n",
        "    array = np.array(array, dtype=float)\n",
        "    mean = np.mean(array, axis=0)\n",
        "    std = np.std(array, axis=0)\n",
        "    std[std == 0] = 1   # avoid division by zero\n",
        "    return (array - mean) / std, mean, std\n",
        "\n",
        "def Standardization_test(array, mean, std):\n",
        "    array = np.array(array, dtype=float)\n",
        "    return (array - mean) / std\n"
      ]
    },
    {
      "cell_type": "code",
      "execution_count": 170,
      "id": "29a31181",
      "metadata": {
        "id": "29a31181"
      },
      "outputs": [],
      "source": [
        "scaled_x_train = Standardization(x_train)\n",
        "scaled_x_test  = Standardization(x_test)"
      ]
    },
    {
      "cell_type": "code",
      "execution_count": 171,
      "id": "69e53d8b",
      "metadata": {
        "id": "69e53d8b",
        "colab": {
          "base_uri": "https://localhost:8080/"
        },
        "outputId": "3b2d9873-e1c7-42ff-a1af-6e40f62651c8"
      },
      "outputs": [
        {
          "output_type": "execute_result",
          "data": {
            "text/plain": [
              "array([[ 0.62469167, -0.80143423,  0.73866486, ..., -0.99731909,\n",
              "         1.14721775, -0.44496555],\n",
              "       [ 0.82935056, -0.94181681,  0.42151425, ..., -0.02145923,\n",
              "         0.56692722,  0.94815527],\n",
              "       [-1.332047  ,  1.03757759,  1.84869199, ..., -0.53437749,\n",
              "         0.6098923 ,  2.13906275],\n",
              "       ...,\n",
              "       [ 0.62469167, -0.74528119,  1.21439077, ..., -0.24766933,\n",
              "        -0.70939756,  0.15995349],\n",
              "       [-1.37697212,  1.07969236,  1.29367842, ..., -0.60013624,\n",
              "        -0.11024432, -0.63341117],\n",
              "       [-1.3070886 ,  0.99078339,  0.6593772 , ...,  0.44411273,\n",
              "        -1.29555649, -1.0593499 ]])"
            ]
          },
          "metadata": {},
          "execution_count": 171
        }
      ],
      "source": [
        "scaled_x_train"
      ]
    },
    {
      "cell_type": "code",
      "execution_count": 172,
      "id": "42c516b5",
      "metadata": {
        "id": "42c516b5",
        "colab": {
          "base_uri": "https://localhost:8080/"
        },
        "outputId": "5b4b357f-d49c-4542-ebe4-befcfabb533f"
      },
      "outputs": [
        {
          "output_type": "execute_result",
          "data": {
            "text/plain": [
              "array([[-0.43540171, -0.3025732 , -1.6336743 , ..., -0.54926602,\n",
              "         0.64160666,  0.51273189],\n",
              "       [ 0.59268052, -0.79484097, -0.43423614, ..., -0.02953263,\n",
              "         0.61866176,  0.18828167],\n",
              "       [ 0.86217781, -0.89329452, -1.07393649, ..., -0.50574155,\n",
              "         2.23651914,  1.10993422],\n",
              "       ...,\n",
              "       [-1.44851187,  1.02420565,  1.64478999, ...,  0.10616131,\n",
              "        -0.45534234,  1.3060305 ],\n",
              "       [-0.84962902,  1.03827044, -1.07393649, ...,  0.13432421,\n",
              "         0.22381601, -0.59164674],\n",
              "       [ 0.63759674, -0.78077618,  1.08505218, ..., -0.70800233,\n",
              "        -1.44654059, -1.05247302]])"
            ]
          },
          "metadata": {},
          "execution_count": 172
        }
      ],
      "source": [
        "scaled_x_test"
      ]
    },
    {
      "cell_type": "markdown",
      "id": "71769e01",
      "metadata": {
        "id": "71769e01"
      },
      "source": [
        "### (B) Implementing Normal Equation"
      ]
    },
    {
      "cell_type": "code",
      "execution_count": 173,
      "id": "74be050d",
      "metadata": {
        "id": "74be050d"
      },
      "outputs": [],
      "source": [
        "class NormalEquation:\n",
        "    def __init__(self):\n",
        "        pass\n",
        "\n",
        "    def fit(self, x_train, y_train):\n",
        "        modified_x_train = np.c_[np.ones((x_train.shape[0], 1)), x_train]\n",
        "        transposed_modified_x_train = np.transpose(modified_x_train)\n",
        "        theta = np.linalg.inv((transposed_modified_x_train @ modified_x_train)) @ (transposed_modified_x_train @ y_train)\n",
        "        self.theta = theta\n",
        "\n",
        "    def predict(self, x_test):\n",
        "        modified_x_test = np.c_[np.ones((x_test.shape[0], 1)), x_test]\n",
        "        return modified_x_test@(self.theta)"
      ]
    },
    {
      "cell_type": "code",
      "execution_count": 174,
      "id": "bb70b809",
      "metadata": {
        "id": "bb70b809"
      },
      "outputs": [],
      "source": [
        "model_normal_equation = NormalEquation()\n",
        "model_normal_equation.fit(x_train=scaled_x_train, y_train=y_train)"
      ]
    },
    {
      "cell_type": "code",
      "execution_count": 175,
      "id": "3ce99a6d",
      "metadata": {
        "id": "3ce99a6d",
        "colab": {
          "base_uri": "https://localhost:8080/"
        },
        "outputId": "ffa459e7-bc28-4b3e-8982-ab0c8b8a47d1"
      },
      "outputs": [
        {
          "output_type": "execute_result",
          "data": {
            "text/plain": [
              "array([253347.44233066, 223038.55250662, 246091.12752855, ...,\n",
              "       290917.61865945, 175028.29614362, 171211.85287713])"
            ]
          },
          "metadata": {},
          "execution_count": 175
        }
      ],
      "source": [
        "y_pred_normal_equation = model_normal_equation.predict(x_test=scaled_x_test)\n",
        "y_pred_normal_equation"
      ]
    },
    {
      "cell_type": "markdown",
      "id": "b5c60663",
      "metadata": {
        "id": "b5c60663"
      },
      "source": [
        "### (C) Implementing Batch Gradient Descent"
      ]
    },
    {
      "cell_type": "code",
      "execution_count": 176,
      "id": "bdadfc77",
      "metadata": {
        "id": "bdadfc77"
      },
      "outputs": [],
      "source": [
        "class GradientDescent:\n",
        "    def __init__(self):\n",
        "        pass\n",
        "\n",
        "    def fit(self, x_train, y_train, epochs = 200, learning_rate = 0.01):\n",
        "        rows, cols = x_train.shape\n",
        "        modified_x_train = np.c_[np.ones((rows, 1)), x_train]\n",
        "        modified_x_test = np.c_[np.ones((x_test.shape[0], 1)), x_test]\n",
        "        transpose_modified_x_train = np.transpose(modified_x_train)\n",
        "        theta = np.zeros((cols+1, 1))\n",
        "\n",
        "        loss_per_iterations = []\n",
        "        weights = []\n",
        "        val_loss = []\n",
        "\n",
        "        y_train = y_train.reshape(-1, 1)\n",
        "\n",
        "        for i in range(epochs):\n",
        "            y_pred_before = modified_x_train@theta\n",
        "            theta-=learning_rate*(transpose_modified_x_train@(y_pred_before - y_train))/rows\n",
        "\n",
        "            y_pred_after = modified_x_train@theta\n",
        "            loss_per_iterations.append(np.mean(((y_pred_after - y_train) ** 2)))\n",
        "            weights.append(theta[5][0])\n",
        "            val_loss.append(np.mean(((modified_x_test@theta) - y_test)**2))\n",
        "\n",
        "        self.loss_per_iterations = loss_per_iterations\n",
        "        self.theta = theta\n",
        "        self.weights = weights\n",
        "        self.val_loss = val_loss\n",
        "\n",
        "    def predict(self, x_test):\n",
        "        modified_x_test = np.c_[np.ones((x_test.shape[0], 1)), x_test]\n",
        "        return modified_x_test@(self.theta)"
      ]
    },
    {
      "cell_type": "code",
      "execution_count": 177,
      "id": "0776c6e0",
      "metadata": {
        "id": "0776c6e0"
      },
      "outputs": [],
      "source": [
        "model_gradient_descent = GradientDescent()\n",
        "model_gradient_descent.fit(x_train=scaled_x_train, y_train=y_train)"
      ]
    },
    {
      "cell_type": "code",
      "execution_count": 178,
      "id": "bcd9557f",
      "metadata": {
        "id": "bcd9557f",
        "colab": {
          "base_uri": "https://localhost:8080/"
        },
        "outputId": "93e04571-3a00-4661-b505-77d14384309b"
      },
      "outputs": [
        {
          "output_type": "execute_result",
          "data": {
            "text/plain": [
              "array([[194832.28288992],\n",
              "       [189264.35150979],\n",
              "       [224573.18021936],\n",
              "       ...,\n",
              "       [238857.48465664],\n",
              "       [152611.93048167],\n",
              "       [139231.97809951]])"
            ]
          },
          "metadata": {},
          "execution_count": 178
        }
      ],
      "source": [
        "y_pred_gradient_descent = model_gradient_descent.predict(scaled_x_test)\n",
        "y_pred_gradient_descent"
      ]
    },
    {
      "cell_type": "markdown",
      "id": "9a3ef0ba",
      "metadata": {
        "id": "9a3ef0ba"
      },
      "source": [
        "### (D) Using Scikit-Learn"
      ]
    },
    {
      "cell_type": "code",
      "execution_count": 179,
      "id": "6d902a95",
      "metadata": {
        "id": "6d902a95",
        "colab": {
          "base_uri": "https://localhost:8080/",
          "height": 80
        },
        "outputId": "7eb78c14-4735-462c-86e9-a286a2039d70"
      },
      "outputs": [
        {
          "output_type": "execute_result",
          "data": {
            "text/plain": [
              "LinearRegression()"
            ],
            "text/html": [
              "<style>#sk-container-id-1 {\n",
              "  /* Definition of color scheme common for light and dark mode */\n",
              "  --sklearn-color-text: #000;\n",
              "  --sklearn-color-text-muted: #666;\n",
              "  --sklearn-color-line: gray;\n",
              "  /* Definition of color scheme for unfitted estimators */\n",
              "  --sklearn-color-unfitted-level-0: #fff5e6;\n",
              "  --sklearn-color-unfitted-level-1: #f6e4d2;\n",
              "  --sklearn-color-unfitted-level-2: #ffe0b3;\n",
              "  --sklearn-color-unfitted-level-3: chocolate;\n",
              "  /* Definition of color scheme for fitted estimators */\n",
              "  --sklearn-color-fitted-level-0: #f0f8ff;\n",
              "  --sklearn-color-fitted-level-1: #d4ebff;\n",
              "  --sklearn-color-fitted-level-2: #b3dbfd;\n",
              "  --sklearn-color-fitted-level-3: cornflowerblue;\n",
              "\n",
              "  /* Specific color for light theme */\n",
              "  --sklearn-color-text-on-default-background: var(--sg-text-color, var(--theme-code-foreground, var(--jp-content-font-color1, black)));\n",
              "  --sklearn-color-background: var(--sg-background-color, var(--theme-background, var(--jp-layout-color0, white)));\n",
              "  --sklearn-color-border-box: var(--sg-text-color, var(--theme-code-foreground, var(--jp-content-font-color1, black)));\n",
              "  --sklearn-color-icon: #696969;\n",
              "\n",
              "  @media (prefers-color-scheme: dark) {\n",
              "    /* Redefinition of color scheme for dark theme */\n",
              "    --sklearn-color-text-on-default-background: var(--sg-text-color, var(--theme-code-foreground, var(--jp-content-font-color1, white)));\n",
              "    --sklearn-color-background: var(--sg-background-color, var(--theme-background, var(--jp-layout-color0, #111)));\n",
              "    --sklearn-color-border-box: var(--sg-text-color, var(--theme-code-foreground, var(--jp-content-font-color1, white)));\n",
              "    --sklearn-color-icon: #878787;\n",
              "  }\n",
              "}\n",
              "\n",
              "#sk-container-id-1 {\n",
              "  color: var(--sklearn-color-text);\n",
              "}\n",
              "\n",
              "#sk-container-id-1 pre {\n",
              "  padding: 0;\n",
              "}\n",
              "\n",
              "#sk-container-id-1 input.sk-hidden--visually {\n",
              "  border: 0;\n",
              "  clip: rect(1px 1px 1px 1px);\n",
              "  clip: rect(1px, 1px, 1px, 1px);\n",
              "  height: 1px;\n",
              "  margin: -1px;\n",
              "  overflow: hidden;\n",
              "  padding: 0;\n",
              "  position: absolute;\n",
              "  width: 1px;\n",
              "}\n",
              "\n",
              "#sk-container-id-1 div.sk-dashed-wrapped {\n",
              "  border: 1px dashed var(--sklearn-color-line);\n",
              "  margin: 0 0.4em 0.5em 0.4em;\n",
              "  box-sizing: border-box;\n",
              "  padding-bottom: 0.4em;\n",
              "  background-color: var(--sklearn-color-background);\n",
              "}\n",
              "\n",
              "#sk-container-id-1 div.sk-container {\n",
              "  /* jupyter's `normalize.less` sets `[hidden] { display: none; }`\n",
              "     but bootstrap.min.css set `[hidden] { display: none !important; }`\n",
              "     so we also need the `!important` here to be able to override the\n",
              "     default hidden behavior on the sphinx rendered scikit-learn.org.\n",
              "     See: https://github.com/scikit-learn/scikit-learn/issues/21755 */\n",
              "  display: inline-block !important;\n",
              "  position: relative;\n",
              "}\n",
              "\n",
              "#sk-container-id-1 div.sk-text-repr-fallback {\n",
              "  display: none;\n",
              "}\n",
              "\n",
              "div.sk-parallel-item,\n",
              "div.sk-serial,\n",
              "div.sk-item {\n",
              "  /* draw centered vertical line to link estimators */\n",
              "  background-image: linear-gradient(var(--sklearn-color-text-on-default-background), var(--sklearn-color-text-on-default-background));\n",
              "  background-size: 2px 100%;\n",
              "  background-repeat: no-repeat;\n",
              "  background-position: center center;\n",
              "}\n",
              "\n",
              "/* Parallel-specific style estimator block */\n",
              "\n",
              "#sk-container-id-1 div.sk-parallel-item::after {\n",
              "  content: \"\";\n",
              "  width: 100%;\n",
              "  border-bottom: 2px solid var(--sklearn-color-text-on-default-background);\n",
              "  flex-grow: 1;\n",
              "}\n",
              "\n",
              "#sk-container-id-1 div.sk-parallel {\n",
              "  display: flex;\n",
              "  align-items: stretch;\n",
              "  justify-content: center;\n",
              "  background-color: var(--sklearn-color-background);\n",
              "  position: relative;\n",
              "}\n",
              "\n",
              "#sk-container-id-1 div.sk-parallel-item {\n",
              "  display: flex;\n",
              "  flex-direction: column;\n",
              "}\n",
              "\n",
              "#sk-container-id-1 div.sk-parallel-item:first-child::after {\n",
              "  align-self: flex-end;\n",
              "  width: 50%;\n",
              "}\n",
              "\n",
              "#sk-container-id-1 div.sk-parallel-item:last-child::after {\n",
              "  align-self: flex-start;\n",
              "  width: 50%;\n",
              "}\n",
              "\n",
              "#sk-container-id-1 div.sk-parallel-item:only-child::after {\n",
              "  width: 0;\n",
              "}\n",
              "\n",
              "/* Serial-specific style estimator block */\n",
              "\n",
              "#sk-container-id-1 div.sk-serial {\n",
              "  display: flex;\n",
              "  flex-direction: column;\n",
              "  align-items: center;\n",
              "  background-color: var(--sklearn-color-background);\n",
              "  padding-right: 1em;\n",
              "  padding-left: 1em;\n",
              "}\n",
              "\n",
              "\n",
              "/* Toggleable style: style used for estimator/Pipeline/ColumnTransformer box that is\n",
              "clickable and can be expanded/collapsed.\n",
              "- Pipeline and ColumnTransformer use this feature and define the default style\n",
              "- Estimators will overwrite some part of the style using the `sk-estimator` class\n",
              "*/\n",
              "\n",
              "/* Pipeline and ColumnTransformer style (default) */\n",
              "\n",
              "#sk-container-id-1 div.sk-toggleable {\n",
              "  /* Default theme specific background. It is overwritten whether we have a\n",
              "  specific estimator or a Pipeline/ColumnTransformer */\n",
              "  background-color: var(--sklearn-color-background);\n",
              "}\n",
              "\n",
              "/* Toggleable label */\n",
              "#sk-container-id-1 label.sk-toggleable__label {\n",
              "  cursor: pointer;\n",
              "  display: flex;\n",
              "  width: 100%;\n",
              "  margin-bottom: 0;\n",
              "  padding: 0.5em;\n",
              "  box-sizing: border-box;\n",
              "  text-align: center;\n",
              "  align-items: start;\n",
              "  justify-content: space-between;\n",
              "  gap: 0.5em;\n",
              "}\n",
              "\n",
              "#sk-container-id-1 label.sk-toggleable__label .caption {\n",
              "  font-size: 0.6rem;\n",
              "  font-weight: lighter;\n",
              "  color: var(--sklearn-color-text-muted);\n",
              "}\n",
              "\n",
              "#sk-container-id-1 label.sk-toggleable__label-arrow:before {\n",
              "  /* Arrow on the left of the label */\n",
              "  content: \"▸\";\n",
              "  float: left;\n",
              "  margin-right: 0.25em;\n",
              "  color: var(--sklearn-color-icon);\n",
              "}\n",
              "\n",
              "#sk-container-id-1 label.sk-toggleable__label-arrow:hover:before {\n",
              "  color: var(--sklearn-color-text);\n",
              "}\n",
              "\n",
              "/* Toggleable content - dropdown */\n",
              "\n",
              "#sk-container-id-1 div.sk-toggleable__content {\n",
              "  max-height: 0;\n",
              "  max-width: 0;\n",
              "  overflow: hidden;\n",
              "  text-align: left;\n",
              "  /* unfitted */\n",
              "  background-color: var(--sklearn-color-unfitted-level-0);\n",
              "}\n",
              "\n",
              "#sk-container-id-1 div.sk-toggleable__content.fitted {\n",
              "  /* fitted */\n",
              "  background-color: var(--sklearn-color-fitted-level-0);\n",
              "}\n",
              "\n",
              "#sk-container-id-1 div.sk-toggleable__content pre {\n",
              "  margin: 0.2em;\n",
              "  border-radius: 0.25em;\n",
              "  color: var(--sklearn-color-text);\n",
              "  /* unfitted */\n",
              "  background-color: var(--sklearn-color-unfitted-level-0);\n",
              "}\n",
              "\n",
              "#sk-container-id-1 div.sk-toggleable__content.fitted pre {\n",
              "  /* unfitted */\n",
              "  background-color: var(--sklearn-color-fitted-level-0);\n",
              "}\n",
              "\n",
              "#sk-container-id-1 input.sk-toggleable__control:checked~div.sk-toggleable__content {\n",
              "  /* Expand drop-down */\n",
              "  max-height: 200px;\n",
              "  max-width: 100%;\n",
              "  overflow: auto;\n",
              "}\n",
              "\n",
              "#sk-container-id-1 input.sk-toggleable__control:checked~label.sk-toggleable__label-arrow:before {\n",
              "  content: \"▾\";\n",
              "}\n",
              "\n",
              "/* Pipeline/ColumnTransformer-specific style */\n",
              "\n",
              "#sk-container-id-1 div.sk-label input.sk-toggleable__control:checked~label.sk-toggleable__label {\n",
              "  color: var(--sklearn-color-text);\n",
              "  background-color: var(--sklearn-color-unfitted-level-2);\n",
              "}\n",
              "\n",
              "#sk-container-id-1 div.sk-label.fitted input.sk-toggleable__control:checked~label.sk-toggleable__label {\n",
              "  background-color: var(--sklearn-color-fitted-level-2);\n",
              "}\n",
              "\n",
              "/* Estimator-specific style */\n",
              "\n",
              "/* Colorize estimator box */\n",
              "#sk-container-id-1 div.sk-estimator input.sk-toggleable__control:checked~label.sk-toggleable__label {\n",
              "  /* unfitted */\n",
              "  background-color: var(--sklearn-color-unfitted-level-2);\n",
              "}\n",
              "\n",
              "#sk-container-id-1 div.sk-estimator.fitted input.sk-toggleable__control:checked~label.sk-toggleable__label {\n",
              "  /* fitted */\n",
              "  background-color: var(--sklearn-color-fitted-level-2);\n",
              "}\n",
              "\n",
              "#sk-container-id-1 div.sk-label label.sk-toggleable__label,\n",
              "#sk-container-id-1 div.sk-label label {\n",
              "  /* The background is the default theme color */\n",
              "  color: var(--sklearn-color-text-on-default-background);\n",
              "}\n",
              "\n",
              "/* On hover, darken the color of the background */\n",
              "#sk-container-id-1 div.sk-label:hover label.sk-toggleable__label {\n",
              "  color: var(--sklearn-color-text);\n",
              "  background-color: var(--sklearn-color-unfitted-level-2);\n",
              "}\n",
              "\n",
              "/* Label box, darken color on hover, fitted */\n",
              "#sk-container-id-1 div.sk-label.fitted:hover label.sk-toggleable__label.fitted {\n",
              "  color: var(--sklearn-color-text);\n",
              "  background-color: var(--sklearn-color-fitted-level-2);\n",
              "}\n",
              "\n",
              "/* Estimator label */\n",
              "\n",
              "#sk-container-id-1 div.sk-label label {\n",
              "  font-family: monospace;\n",
              "  font-weight: bold;\n",
              "  display: inline-block;\n",
              "  line-height: 1.2em;\n",
              "}\n",
              "\n",
              "#sk-container-id-1 div.sk-label-container {\n",
              "  text-align: center;\n",
              "}\n",
              "\n",
              "/* Estimator-specific */\n",
              "#sk-container-id-1 div.sk-estimator {\n",
              "  font-family: monospace;\n",
              "  border: 1px dotted var(--sklearn-color-border-box);\n",
              "  border-radius: 0.25em;\n",
              "  box-sizing: border-box;\n",
              "  margin-bottom: 0.5em;\n",
              "  /* unfitted */\n",
              "  background-color: var(--sklearn-color-unfitted-level-0);\n",
              "}\n",
              "\n",
              "#sk-container-id-1 div.sk-estimator.fitted {\n",
              "  /* fitted */\n",
              "  background-color: var(--sklearn-color-fitted-level-0);\n",
              "}\n",
              "\n",
              "/* on hover */\n",
              "#sk-container-id-1 div.sk-estimator:hover {\n",
              "  /* unfitted */\n",
              "  background-color: var(--sklearn-color-unfitted-level-2);\n",
              "}\n",
              "\n",
              "#sk-container-id-1 div.sk-estimator.fitted:hover {\n",
              "  /* fitted */\n",
              "  background-color: var(--sklearn-color-fitted-level-2);\n",
              "}\n",
              "\n",
              "/* Specification for estimator info (e.g. \"i\" and \"?\") */\n",
              "\n",
              "/* Common style for \"i\" and \"?\" */\n",
              "\n",
              ".sk-estimator-doc-link,\n",
              "a:link.sk-estimator-doc-link,\n",
              "a:visited.sk-estimator-doc-link {\n",
              "  float: right;\n",
              "  font-size: smaller;\n",
              "  line-height: 1em;\n",
              "  font-family: monospace;\n",
              "  background-color: var(--sklearn-color-background);\n",
              "  border-radius: 1em;\n",
              "  height: 1em;\n",
              "  width: 1em;\n",
              "  text-decoration: none !important;\n",
              "  margin-left: 0.5em;\n",
              "  text-align: center;\n",
              "  /* unfitted */\n",
              "  border: var(--sklearn-color-unfitted-level-1) 1pt solid;\n",
              "  color: var(--sklearn-color-unfitted-level-1);\n",
              "}\n",
              "\n",
              ".sk-estimator-doc-link.fitted,\n",
              "a:link.sk-estimator-doc-link.fitted,\n",
              "a:visited.sk-estimator-doc-link.fitted {\n",
              "  /* fitted */\n",
              "  border: var(--sklearn-color-fitted-level-1) 1pt solid;\n",
              "  color: var(--sklearn-color-fitted-level-1);\n",
              "}\n",
              "\n",
              "/* On hover */\n",
              "div.sk-estimator:hover .sk-estimator-doc-link:hover,\n",
              ".sk-estimator-doc-link:hover,\n",
              "div.sk-label-container:hover .sk-estimator-doc-link:hover,\n",
              ".sk-estimator-doc-link:hover {\n",
              "  /* unfitted */\n",
              "  background-color: var(--sklearn-color-unfitted-level-3);\n",
              "  color: var(--sklearn-color-background);\n",
              "  text-decoration: none;\n",
              "}\n",
              "\n",
              "div.sk-estimator.fitted:hover .sk-estimator-doc-link.fitted:hover,\n",
              ".sk-estimator-doc-link.fitted:hover,\n",
              "div.sk-label-container:hover .sk-estimator-doc-link.fitted:hover,\n",
              ".sk-estimator-doc-link.fitted:hover {\n",
              "  /* fitted */\n",
              "  background-color: var(--sklearn-color-fitted-level-3);\n",
              "  color: var(--sklearn-color-background);\n",
              "  text-decoration: none;\n",
              "}\n",
              "\n",
              "/* Span, style for the box shown on hovering the info icon */\n",
              ".sk-estimator-doc-link span {\n",
              "  display: none;\n",
              "  z-index: 9999;\n",
              "  position: relative;\n",
              "  font-weight: normal;\n",
              "  right: .2ex;\n",
              "  padding: .5ex;\n",
              "  margin: .5ex;\n",
              "  width: min-content;\n",
              "  min-width: 20ex;\n",
              "  max-width: 50ex;\n",
              "  color: var(--sklearn-color-text);\n",
              "  box-shadow: 2pt 2pt 4pt #999;\n",
              "  /* unfitted */\n",
              "  background: var(--sklearn-color-unfitted-level-0);\n",
              "  border: .5pt solid var(--sklearn-color-unfitted-level-3);\n",
              "}\n",
              "\n",
              ".sk-estimator-doc-link.fitted span {\n",
              "  /* fitted */\n",
              "  background: var(--sklearn-color-fitted-level-0);\n",
              "  border: var(--sklearn-color-fitted-level-3);\n",
              "}\n",
              "\n",
              ".sk-estimator-doc-link:hover span {\n",
              "  display: block;\n",
              "}\n",
              "\n",
              "/* \"?\"-specific style due to the `<a>` HTML tag */\n",
              "\n",
              "#sk-container-id-1 a.estimator_doc_link {\n",
              "  float: right;\n",
              "  font-size: 1rem;\n",
              "  line-height: 1em;\n",
              "  font-family: monospace;\n",
              "  background-color: var(--sklearn-color-background);\n",
              "  border-radius: 1rem;\n",
              "  height: 1rem;\n",
              "  width: 1rem;\n",
              "  text-decoration: none;\n",
              "  /* unfitted */\n",
              "  color: var(--sklearn-color-unfitted-level-1);\n",
              "  border: var(--sklearn-color-unfitted-level-1) 1pt solid;\n",
              "}\n",
              "\n",
              "#sk-container-id-1 a.estimator_doc_link.fitted {\n",
              "  /* fitted */\n",
              "  border: var(--sklearn-color-fitted-level-1) 1pt solid;\n",
              "  color: var(--sklearn-color-fitted-level-1);\n",
              "}\n",
              "\n",
              "/* On hover */\n",
              "#sk-container-id-1 a.estimator_doc_link:hover {\n",
              "  /* unfitted */\n",
              "  background-color: var(--sklearn-color-unfitted-level-3);\n",
              "  color: var(--sklearn-color-background);\n",
              "  text-decoration: none;\n",
              "}\n",
              "\n",
              "#sk-container-id-1 a.estimator_doc_link.fitted:hover {\n",
              "  /* fitted */\n",
              "  background-color: var(--sklearn-color-fitted-level-3);\n",
              "}\n",
              "</style><div id=\"sk-container-id-1\" class=\"sk-top-container\"><div class=\"sk-text-repr-fallback\"><pre>LinearRegression()</pre><b>In a Jupyter environment, please rerun this cell to show the HTML representation or trust the notebook. <br />On GitHub, the HTML representation is unable to render, please try loading this page with nbviewer.org.</b></div><div class=\"sk-container\" hidden><div class=\"sk-item\"><div class=\"sk-estimator fitted sk-toggleable\"><input class=\"sk-toggleable__control sk-hidden--visually\" id=\"sk-estimator-id-1\" type=\"checkbox\" checked><label for=\"sk-estimator-id-1\" class=\"sk-toggleable__label fitted sk-toggleable__label-arrow\"><div><div>LinearRegression</div></div><div><a class=\"sk-estimator-doc-link fitted\" rel=\"noreferrer\" target=\"_blank\" href=\"https://scikit-learn.org/1.6/modules/generated/sklearn.linear_model.LinearRegression.html\">?<span>Documentation for LinearRegression</span></a><span class=\"sk-estimator-doc-link fitted\">i<span>Fitted</span></span></div></label><div class=\"sk-toggleable__content fitted\"><pre>LinearRegression()</pre></div> </div></div></div></div>"
            ]
          },
          "metadata": {},
          "execution_count": 179
        }
      ],
      "source": [
        "from sklearn.linear_model import LinearRegression\n",
        "model_scikit_learn = LinearRegression()\n",
        "model_scikit_learn.fit(x_train, y_train)"
      ]
    },
    {
      "cell_type": "code",
      "execution_count": 180,
      "id": "e28f1729",
      "metadata": {
        "id": "e28f1729",
        "colab": {
          "base_uri": "https://localhost:8080/"
        },
        "outputId": "0d967a6f-ad9d-4df6-bb19-7502f91a0967"
      },
      "outputs": [
        {
          "output_type": "execute_result",
          "data": {
            "text/plain": [
              "array([-1651184.2805632 , -1663228.82251616, -1668032.39087348, ...,\n",
              "       -1654098.98190135, -1666988.21810436, -1663112.52846895])"
            ]
          },
          "metadata": {},
          "execution_count": 180
        }
      ],
      "source": [
        "y_pred_scikit_learn = model_scikit_learn.predict(scaled_x_test)\n",
        "y_pred_scikit_learn"
      ]
    },
    {
      "cell_type": "markdown",
      "id": "1a2395e6",
      "metadata": {
        "id": "1a2395e6"
      },
      "source": [
        "### (E) Visualizations"
      ]
    },
    {
      "cell_type": "markdown",
      "id": "74820bac",
      "metadata": {
        "id": "74820bac"
      },
      "source": [
        "##### Plotting MSE against iteration number"
      ]
    },
    {
      "cell_type": "code",
      "execution_count": 182,
      "id": "12a88fc4",
      "metadata": {
        "id": "12a88fc4",
        "colab": {
          "base_uri": "https://localhost:8080/"
        },
        "outputId": "63332a46-d2c2-4fad-f2f2-b067a48d61af"
      },
      "outputs": [
        {
          "output_type": "stream",
          "name": "stderr",
          "text": [
            "/tmp/ipython-input-1744191268.py:23: RuntimeWarning: overflow encountered in square\n",
            "  loss_per_iterations.append(np.mean(((y_pred_after - y_train) ** 2)))\n",
            "/tmp/ipython-input-1744191268.py:25: RuntimeWarning: overflow encountered in square\n",
            "  val_loss.append(np.mean(((modified_x_test@theta) - y_test)**2))\n",
            "/tmp/ipython-input-1744191268.py:20: RuntimeWarning: overflow encountered in matmul\n",
            "  theta-=learning_rate*(transpose_modified_x_train@(y_pred_before - y_train))/rows\n",
            "/tmp/ipython-input-1744191268.py:20: RuntimeWarning: invalid value encountered in subtract\n",
            "  theta-=learning_rate*(transpose_modified_x_train@(y_pred_before - y_train))/rows\n"
          ]
        }
      ],
      "source": [
        "curves = []\n",
        "epochs = 200\n",
        "\n",
        "## Unscaled\n",
        "for lr in [1e-7, 1e-8, 1e-9]:\n",
        "    gd = GradientDescent()\n",
        "    gd.fit(x_train=x_train, y_train=y_train, epochs=epochs, learning_rate=lr)\n",
        "    curves.append((f\"unscaled, lr={lr}\", gd.loss_per_iterations))\n",
        "\n",
        "## Scaled\n",
        "for lr in [0.1, 0.01, 0.001]:\n",
        "    gd = GradientDescent()\n",
        "    gd.fit(x_train=scaled_x_train, y_train=y_train, epochs=epochs, learning_rate=lr)\n",
        "    curves.append((f\"scaled, lr={lr}\", gd.loss_per_iterations))"
      ]
    },
    {
      "cell_type": "code",
      "execution_count": 192,
      "id": "914f0052",
      "metadata": {
        "id": "914f0052",
        "colab": {
          "base_uri": "https://localhost:8080/",
          "height": 707
        },
        "outputId": "446a86cb-b072-4d74-dbfd-6fa1f7382f2f"
      },
      "outputs": [
        {
          "output_type": "display_data",
          "data": {
            "text/plain": [
              "<Figure size 1000x700 with 1 Axes>"
            ],
            "image/png": "[encoded data removed]"
          },
          "metadata": {}
        }
      ],
      "source": [
        "plt.figure(figsize=(10,7))\n",
        "for label, loss in curves:\n",
        "    plt.scatter(range(len(loss)), loss, label=label)\n",
        "\n",
        "plt.xlabel(\"Iteration\")\n",
        "plt.ylabel(\"Training MSE\")\n",
        "plt.title(\"Gradient Descent: Loss vs Iterations (Scaled vs Unscaled)\")\n",
        "plt.yscale(\"linear\")\n",
        "plt.legend()\n",
        "plt.tight_layout()\n",
        "plt.show()"
      ]
    },
    {
      "cell_type": "markdown",
      "id": "0610828f",
      "metadata": {
        "id": "0610828f"
      },
      "source": [
        "##### Gradient Descent Visualization"
      ]
    },
    {
      "cell_type": "code",
      "execution_count": 184,
      "id": "266a83ce",
      "metadata": {
        "id": "266a83ce"
      },
      "outputs": [],
      "source": [
        "gd = GradientDescent()\n",
        "gd.fit(x_train = scaled_x_train, y_train=y_train, epochs=50, learning_rate=0.1)"
      ]
    },
    {
      "cell_type": "code",
      "execution_count": 185,
      "id": "774132d7",
      "metadata": {
        "id": "774132d7",
        "colab": {
          "base_uri": "https://localhost:8080/",
          "height": 472
        },
        "outputId": "13370539-3b3b-4949-b1bc-2d57db62dcca"
      },
      "outputs": [
        {
          "output_type": "display_data",
          "data": {
            "text/plain": [
              "<Figure size 640x480 with 1 Axes>"
            ],
            "image/png": "[encoded data removed]"
          },
          "metadata": {}
        }
      ],
      "source": [
        "plt.plot(gd.weights, gd.loss_per_iterations, label=\"Curve\")\n",
        "plt.scatter(gd.weights, gd.loss_per_iterations, label=\"Points\", color = \"red\")\n",
        "plt.title(\"Visualizing Gradient Descent\")\n",
        "plt.xlabel(\"Parameter 5\");\n",
        "plt.ylabel(\"Loss\");\n",
        "plt.legend();\n",
        "plt.show()"
      ]
    },
    {
      "cell_type": "markdown",
      "id": "320ad154",
      "metadata": {
        "id": "320ad154"
      },
      "source": [
        "##### Plotting the Validation Loss"
      ]
    },
    {
      "cell_type": "code",
      "execution_count": 186,
      "id": "348f8a42",
      "metadata": {
        "id": "348f8a42",
        "colab": {
          "base_uri": "https://localhost:8080/",
          "height": 487
        },
        "outputId": "f28e4df7-4884-418a-89e6-f6e637bbbe7b"
      },
      "outputs": [
        {
          "output_type": "display_data",
          "data": {
            "text/plain": [
              "<Figure size 640x480 with 1 Axes>"
            ],
            "image/png": "[encoded data removed]"
          },
          "metadata": {}
        }
      ],
      "source": [
        "plt.plot(range(len(model_gradient_descent.val_loss)), model_gradient_descent.val_loss)\n",
        "plt.xlabel(\"Iteration\")\n",
        "plt.ylabel(\"Validation Loss\")\n",
        "plt.title(\"Gradient Descent: Validation Loss vs Iterations\")\n",
        "plt.yscale(\"linear\")\n",
        "plt.tight_layout()\n",
        "plt.show()"
      ]
    },
    {
      "cell_type": "markdown",
      "id": "c380e058",
      "metadata": {
        "id": "c380e058"
      },
      "source": [
        "### (F) Evaluation Metrics"
      ]
    },
    {
      "cell_type": "code",
      "execution_count": 187,
      "id": "c7801e57",
      "metadata": {
        "id": "c7801e57"
      },
      "outputs": [],
      "source": [
        "def PerformanceMetrics(y_pred, y_test):\n",
        "    MAE = np.mean(np.abs(y_pred - y_test))\n",
        "    MSE = np.mean((y_pred - y_test) ** 2)\n",
        "    RMSE = np.sqrt(MSE)\n",
        "\n",
        "    # For R^2 score\n",
        "    rss = np.sum((y_test - y_pred) ** 2)\n",
        "    tss = np.sum((y_test - np.mean(y_test)) ** 2)\n",
        "    R2 = 1 - rss / tss\n",
        "\n",
        "    print(\"Mean Squared Error (MSE):\", MSE)\n",
        "    print(\"Root Mean Squared Error (RMSE):\", RMSE)\n",
        "    print(\"Mean Absolute Error (MAE):\", MAE)\n",
        "    print(\"R^2 Score:\", R2)"
      ]
    },
    {
      "cell_type": "code",
      "execution_count": 188,
      "id": "74d2566d",
      "metadata": {
        "id": "74d2566d",
        "colab": {
          "base_uri": "https://localhost:8080/"
        },
        "outputId": "b7f12335-29a5-4f5e-f792-cb3efeb1042e"
      },
      "outputs": [
        {
          "output_type": "stream",
          "name": "stdout",
          "text": [
            "Metrics of Linear Regression by Normal Equation: \n",
            "Mean Squared Error (MSE): 10446290997.51371\n",
            "Root Mean Squared Error (RMSE): 102207.09856714313\n",
            "Mean Absolute Error (MAE): 78243.98725659189\n",
            "R^2 Score: 0.20337326928193822\n",
            "\n",
            "Metrics of Linear Regression by Gradient Descent: \n",
            "Mean Squared Error (MSE): 15595274490.319235\n",
            "Root Mean Squared Error (RMSE): 124881.04135664162\n",
            "Mean Absolute Error (MAE): 93893.24422378922\n",
            "R^2 Score: -4858.416688403402\n",
            "\n",
            "Metrics of Linear Regression by Scikit Learn: \n",
            "Mean Squared Error (MSE): 3513365620518.049\n",
            "Root Mean Squared Error (RMSE): 1874397.401971644\n",
            "Mean Absolute Error (MAE): 1871013.1016884125\n",
            "R^2 Score: -266.926766424243\n"
          ]
        }
      ],
      "source": [
        "print(\"Metrics of Linear Regression by Normal Equation: \")\n",
        "PerformanceMetrics(y_pred = y_pred_normal_equation, y_test=y_test)\n",
        "print()\n",
        "print(\"Metrics of Linear Regression by Gradient Descent: \")\n",
        "PerformanceMetrics(y_pred = y_pred_gradient_descent, y_test=y_test)\n",
        "print()\n",
        "print(\"Metrics of Linear Regression by Scikit Learn: \")\n",
        "PerformanceMetrics(y_pred = y_pred_scikit_learn, y_test=y_test)"
      ]
    }
  ],
  "metadata": {
    "kernelspec": {
      "display_name": "base",
      "language": "python",
      "name": "python3"
    },
    "language_info": {
      "codemirror_mode": {
        "name": "ipython",
        "version": 3
      },
      "file_extension": ".py",
      "mimetype": "text/x-python",
      "name": "python",
      "nbconvert_exporter": "python",
      "pygments_lexer": "ipython3",
      "version": "3.12.7"
    },
    "colab": {
      "provenance": []
    }
  },
  "nbformat": 4,
  "nbformat_minor": 5
}